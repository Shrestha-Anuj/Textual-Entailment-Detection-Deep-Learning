{
 "cells": [
  {
   "cell_type": "markdown",
   "id": "779da271",
   "metadata": {},
   "source": [
    "# Bidirectional Long-Short Term Memory (Bi-LSTM) for mnli"
   ]
  },
  {
   "cell_type": "code",
   "execution_count": 1,
   "id": "36c0f29a",
   "metadata": {},
   "outputs": [],
   "source": [
    "#import preprocessing, modeling, and evaluation libraries\n",
    "\n",
    "import numpy as np\n",
    "from tensorflow.keras.models import Sequential\n",
    "from tensorflow.keras.layers import Embedding, LSTM, Bidirectional, Dense, Dropout, SpatialDropout1D\n",
    "from tensorflow.keras.preprocessing.text import Tokenizer\n",
    "from tensorflow.keras.preprocessing.sequence import pad_sequences\n",
    "from sklearn.metrics import accuracy_score, classification_report\n"
   ]
  },
  {
   "cell_type": "code",
   "execution_count": 2,
   "id": "e5073d2a",
   "metadata": {},
   "outputs": [],
   "source": [
    "# loading training, validation and testing dataset\n",
    "import pandas as pd\n",
    "\n",
    "#training set\n",
    "data_frame_train = pd.read_csv('./mnli dataset/sampled_training_data_ten_percent.csv')\n",
    "\n",
    "#validation set\n",
    "data_frame_validation = pd.read_csv('./mnli dataset/sampled_validation_data_ten_percent.csv')\n",
    "                                    \n",
    "#testing set                                  \n",
    "data_frame_test = pd.read_csv('./mnli dataset/sampled_testing_data_five_percent.csv')\n"
   ]
  },
  {
   "cell_type": "code",
   "execution_count": 3,
   "id": "faf8318b",
   "metadata": {},
   "outputs": [],
   "source": [
    "# replace NaN float with \"missing\" string values\n",
    "\n",
    "def replaceNaN(df):\n",
    "    \n",
    "    df.fillna({'premise': 'missing'}, inplace=True)\n",
    "    df.fillna({'hypothesis':'missing'}, inplace=True)\n",
    "    \n",
    "    return None\n"
   ]
  },
  {
   "cell_type": "code",
   "execution_count": 4,
   "id": "007610d7",
   "metadata": {},
   "outputs": [
    {
     "data": {
      "text/html": [
       "<div>\n",
       "<style scoped>\n",
       "    .dataframe tbody tr th:only-of-type {\n",
       "        vertical-align: middle;\n",
       "    }\n",
       "\n",
       "    .dataframe tbody tr th {\n",
       "        vertical-align: top;\n",
       "    }\n",
       "\n",
       "    .dataframe thead th {\n",
       "        text-align: right;\n",
       "    }\n",
       "</style>\n",
       "<table border=\"1\" class=\"dataframe\">\n",
       "  <thead>\n",
       "    <tr style=\"text-align: right;\">\n",
       "      <th></th>\n",
       "      <th>premise</th>\n",
       "      <th>hypothesis</th>\n",
       "      <th>label</th>\n",
       "      <th>idx</th>\n",
       "      <th>label_text</th>\n",
       "    </tr>\n",
       "  </thead>\n",
       "  <tbody>\n",
       "    <tr>\n",
       "      <th>0</th>\n",
       "      <td>Jon lifted Susan into his arms, his muscles so...</td>\n",
       "      <td>Susan lifted Jon into the air.</td>\n",
       "      <td>2</td>\n",
       "      <td>207880</td>\n",
       "      <td>contradiction</td>\n",
       "    </tr>\n",
       "    <tr>\n",
       "      <th>1</th>\n",
       "      <td>and dropping children off at the sitter and pi...</td>\n",
       "      <td>The children are dropped off at the sitter onl...</td>\n",
       "      <td>0</td>\n",
       "      <td>263102</td>\n",
       "      <td>entailment</td>\n",
       "    </tr>\n",
       "    <tr>\n",
       "      <th>2</th>\n",
       "      <td>The Honorable Donna E. Shalala The Secretary o...</td>\n",
       "      <td>Donna E. Shalala is an honorable person for th...</td>\n",
       "      <td>1</td>\n",
       "      <td>299610</td>\n",
       "      <td>neutral</td>\n",
       "    </tr>\n",
       "    <tr>\n",
       "      <th>3</th>\n",
       "      <td>Scheduling of follow-up visits depends on type...</td>\n",
       "      <td>Most patients have a follow up two weeks after...</td>\n",
       "      <td>1</td>\n",
       "      <td>344508</td>\n",
       "      <td>neutral</td>\n",
       "    </tr>\n",
       "    <tr>\n",
       "      <th>4</th>\n",
       "      <td>This effect does not consider the additional j...</td>\n",
       "      <td>This technology is purely for environmental be...</td>\n",
       "      <td>2</td>\n",
       "      <td>128010</td>\n",
       "      <td>contradiction</td>\n",
       "    </tr>\n",
       "    <tr>\n",
       "      <th>...</th>\n",
       "      <td>...</td>\n",
       "      <td>...</td>\n",
       "      <td>...</td>\n",
       "      <td>...</td>\n",
       "      <td>...</td>\n",
       "    </tr>\n",
       "    <tr>\n",
       "      <th>31411</th>\n",
       "      <td>Tommy's eyes opened as he read: \"Jane Finn found.</td>\n",
       "      <td>Jane Finn was very important to Tommy.</td>\n",
       "      <td>1</td>\n",
       "      <td>360356</td>\n",
       "      <td>neutral</td>\n",
       "    </tr>\n",
       "    <tr>\n",
       "      <th>31412</th>\n",
       "      <td>After a brief stint living in the Palazzo Vecc...</td>\n",
       "      <td>The Medici's official residence used to belong...</td>\n",
       "      <td>0</td>\n",
       "      <td>219442</td>\n",
       "      <td>entailment</td>\n",
       "    </tr>\n",
       "    <tr>\n",
       "      <th>31413</th>\n",
       "      <td>Doors of solid silver open onto the multicolor...</td>\n",
       "      <td>The doors contain more ivory than marble.</td>\n",
       "      <td>1</td>\n",
       "      <td>276936</td>\n",
       "      <td>neutral</td>\n",
       "    </tr>\n",
       "    <tr>\n",
       "      <th>31414</th>\n",
       "      <td>You are not ill, I trust?</td>\n",
       "      <td>Do you feel good?</td>\n",
       "      <td>1</td>\n",
       "      <td>25208</td>\n",
       "      <td>neutral</td>\n",
       "    </tr>\n",
       "    <tr>\n",
       "      <th>31415</th>\n",
       "      <td>One bright  Robert Colescott, the first Africa...</td>\n",
       "      <td>Colescott was an African-American artists.</td>\n",
       "      <td>0</td>\n",
       "      <td>97399</td>\n",
       "      <td>entailment</td>\n",
       "    </tr>\n",
       "  </tbody>\n",
       "</table>\n",
       "<p>31416 rows × 5 columns</p>\n",
       "</div>"
      ],
      "text/plain": [
       "                                                 premise  \\\n",
       "0      Jon lifted Susan into his arms, his muscles so...   \n",
       "1      and dropping children off at the sitter and pi...   \n",
       "2      The Honorable Donna E. Shalala The Secretary o...   \n",
       "3      Scheduling of follow-up visits depends on type...   \n",
       "4      This effect does not consider the additional j...   \n",
       "...                                                  ...   \n",
       "31411  Tommy's eyes opened as he read: \"Jane Finn found.   \n",
       "31412  After a brief stint living in the Palazzo Vecc...   \n",
       "31413  Doors of solid silver open onto the multicolor...   \n",
       "31414                          You are not ill, I trust?   \n",
       "31415  One bright  Robert Colescott, the first Africa...   \n",
       "\n",
       "                                              hypothesis  label     idx  \\\n",
       "0                         Susan lifted Jon into the air.      2  207880   \n",
       "1      The children are dropped off at the sitter onl...      0  263102   \n",
       "2      Donna E. Shalala is an honorable person for th...      1  299610   \n",
       "3      Most patients have a follow up two weeks after...      1  344508   \n",
       "4      This technology is purely for environmental be...      2  128010   \n",
       "...                                                  ...    ...     ...   \n",
       "31411           Jane Finn was very important to Tommy.        1  360356   \n",
       "31412  The Medici's official residence used to belong...      0  219442   \n",
       "31413          The doors contain more ivory than marble.      1  276936   \n",
       "31414                                  Do you feel good?      1   25208   \n",
       "31415         Colescott was an African-American artists.      0   97399   \n",
       "\n",
       "          label_text  \n",
       "0      contradiction  \n",
       "1         entailment  \n",
       "2            neutral  \n",
       "3            neutral  \n",
       "4      contradiction  \n",
       "...              ...  \n",
       "31411        neutral  \n",
       "31412     entailment  \n",
       "31413        neutral  \n",
       "31414        neutral  \n",
       "31415     entailment  \n",
       "\n",
       "[31416 rows x 5 columns]"
      ]
     },
     "execution_count": 4,
     "metadata": {},
     "output_type": "execute_result"
    }
   ],
   "source": [
    "# training data frame\n",
    "\n",
    "replaceNaN(data_frame_train)\n",
    "\n",
    "data_frame_train\n"
   ]
  },
  {
   "cell_type": "code",
   "execution_count": 5,
   "id": "e924ecd2",
   "metadata": {},
   "outputs": [
    {
     "data": {
      "text/html": [
       "<div>\n",
       "<style scoped>\n",
       "    .dataframe tbody tr th:only-of-type {\n",
       "        vertical-align: middle;\n",
       "    }\n",
       "\n",
       "    .dataframe tbody tr th {\n",
       "        vertical-align: top;\n",
       "    }\n",
       "\n",
       "    .dataframe thead th {\n",
       "        text-align: right;\n",
       "    }\n",
       "</style>\n",
       "<table border=\"1\" class=\"dataframe\">\n",
       "  <thead>\n",
       "    <tr style=\"text-align: right;\">\n",
       "      <th></th>\n",
       "      <th>premise</th>\n",
       "      <th>hypothesis</th>\n",
       "      <th>label</th>\n",
       "      <th>idx</th>\n",
       "      <th>label_text</th>\n",
       "    </tr>\n",
       "  </thead>\n",
       "  <tbody>\n",
       "    <tr>\n",
       "      <th>0</th>\n",
       "      <td>yeah well losing is i mean i'm i'm originally ...</td>\n",
       "      <td>The St. Louis Cardinals have always won.</td>\n",
       "      <td>2</td>\n",
       "      <td>3344</td>\n",
       "      <td>contradiction</td>\n",
       "    </tr>\n",
       "    <tr>\n",
       "      <th>1</th>\n",
       "      <td>Beside the fortress lies an 18th-century carav...</td>\n",
       "      <td>The fortress was built a number of years after...</td>\n",
       "      <td>1</td>\n",
       "      <td>3852</td>\n",
       "      <td>neutral</td>\n",
       "    </tr>\n",
       "    <tr>\n",
       "      <th>2</th>\n",
       "      <td>The twenty mastic villages known collectively ...</td>\n",
       "      <td>Mastihohoria is a collection of twenty mastic ...</td>\n",
       "      <td>0</td>\n",
       "      <td>5009</td>\n",
       "      <td>entailment</td>\n",
       "    </tr>\n",
       "    <tr>\n",
       "      <th>3</th>\n",
       "      <td>Jamaican music ska and, especially, reggae has...</td>\n",
       "      <td>Reggae is the most popular music style in Jama...</td>\n",
       "      <td>1</td>\n",
       "      <td>5398</td>\n",
       "      <td>neutral</td>\n",
       "    </tr>\n",
       "    <tr>\n",
       "      <th>4</th>\n",
       "      <td>for me now the address is the same you know my...</td>\n",
       "      <td>I am able to receive mail at my workplace.</td>\n",
       "      <td>1</td>\n",
       "      <td>2335</td>\n",
       "      <td>neutral</td>\n",
       "    </tr>\n",
       "    <tr>\n",
       "      <th>...</th>\n",
       "      <td>...</td>\n",
       "      <td>...</td>\n",
       "      <td>...</td>\n",
       "      <td>...</td>\n",
       "      <td>...</td>\n",
       "    </tr>\n",
       "    <tr>\n",
       "      <th>977</th>\n",
       "      <td>so you know well a lot of the stuff you hear c...</td>\n",
       "      <td>They consider the West African music to be wor...</td>\n",
       "      <td>0</td>\n",
       "      <td>700</td>\n",
       "      <td>entailment</td>\n",
       "    </tr>\n",
       "    <tr>\n",
       "      <th>978</th>\n",
       "      <td>i think they prey on people's um inherent poli...</td>\n",
       "      <td>Some people like listening to recorded message...</td>\n",
       "      <td>1</td>\n",
       "      <td>6399</td>\n",
       "      <td>neutral</td>\n",
       "    </tr>\n",
       "    <tr>\n",
       "      <th>979</th>\n",
       "      <td>Rehnquist's conferences are no-nonsense.</td>\n",
       "      <td>Rehnquist was a respected justice.</td>\n",
       "      <td>1</td>\n",
       "      <td>6306</td>\n",
       "      <td>neutral</td>\n",
       "    </tr>\n",
       "    <tr>\n",
       "      <th>980</th>\n",
       "      <td>The renowned Theban queen Nefertari, wife of R...</td>\n",
       "      <td>The renowned Theban queen Nefertari has a tomb...</td>\n",
       "      <td>2</td>\n",
       "      <td>2210</td>\n",
       "      <td>contradiction</td>\n",
       "    </tr>\n",
       "    <tr>\n",
       "      <th>981</th>\n",
       "      <td>In the original, Reich is set up by his host a...</td>\n",
       "      <td>John questions Reich in a hostile manner in th...</td>\n",
       "      <td>0</td>\n",
       "      <td>3936</td>\n",
       "      <td>entailment</td>\n",
       "    </tr>\n",
       "  </tbody>\n",
       "</table>\n",
       "<p>982 rows × 5 columns</p>\n",
       "</div>"
      ],
      "text/plain": [
       "                                               premise  \\\n",
       "0    yeah well losing is i mean i'm i'm originally ...   \n",
       "1    Beside the fortress lies an 18th-century carav...   \n",
       "2    The twenty mastic villages known collectively ...   \n",
       "3    Jamaican music ska and, especially, reggae has...   \n",
       "4    for me now the address is the same you know my...   \n",
       "..                                                 ...   \n",
       "977  so you know well a lot of the stuff you hear c...   \n",
       "978  i think they prey on people's um inherent poli...   \n",
       "979           Rehnquist's conferences are no-nonsense.   \n",
       "980  The renowned Theban queen Nefertari, wife of R...   \n",
       "981  In the original, Reich is set up by his host a...   \n",
       "\n",
       "                                            hypothesis  label   idx  \\\n",
       "0             The St. Louis Cardinals have always won.      2  3344   \n",
       "1    The fortress was built a number of years after...      1  3852   \n",
       "2    Mastihohoria is a collection of twenty mastic ...      0  5009   \n",
       "3    Reggae is the most popular music style in Jama...      1  5398   \n",
       "4           I am able to receive mail at my workplace.      1  2335   \n",
       "..                                                 ...    ...   ...   \n",
       "977  They consider the West African music to be wor...      0   700   \n",
       "978  Some people like listening to recorded message...      1  6399   \n",
       "979                 Rehnquist was a respected justice.      1  6306   \n",
       "980  The renowned Theban queen Nefertari has a tomb...      2  2210   \n",
       "981  John questions Reich in a hostile manner in th...      0  3936   \n",
       "\n",
       "        label_text  \n",
       "0    contradiction  \n",
       "1          neutral  \n",
       "2       entailment  \n",
       "3          neutral  \n",
       "4          neutral  \n",
       "..             ...  \n",
       "977     entailment  \n",
       "978        neutral  \n",
       "979        neutral  \n",
       "980  contradiction  \n",
       "981     entailment  \n",
       "\n",
       "[982 rows x 5 columns]"
      ]
     },
     "execution_count": 5,
     "metadata": {},
     "output_type": "execute_result"
    }
   ],
   "source": [
    "# validation data frame \n",
    "\n",
    "replaceNaN(data_frame_validation)\n",
    "\n",
    "data_frame_validation\n"
   ]
  },
  {
   "cell_type": "code",
   "execution_count": 6,
   "id": "6ca69a44",
   "metadata": {},
   "outputs": [
    {
     "data": {
      "text/html": [
       "<div>\n",
       "<style scoped>\n",
       "    .dataframe tbody tr th:only-of-type {\n",
       "        vertical-align: middle;\n",
       "    }\n",
       "\n",
       "    .dataframe tbody tr th {\n",
       "        vertical-align: top;\n",
       "    }\n",
       "\n",
       "    .dataframe thead th {\n",
       "        text-align: right;\n",
       "    }\n",
       "</style>\n",
       "<table border=\"1\" class=\"dataframe\">\n",
       "  <thead>\n",
       "    <tr style=\"text-align: right;\">\n",
       "      <th></th>\n",
       "      <th>premise</th>\n",
       "      <th>hypothesis</th>\n",
       "      <th>label</th>\n",
       "      <th>idx</th>\n",
       "      <th>label_text</th>\n",
       "    </tr>\n",
       "  </thead>\n",
       "  <tbody>\n",
       "    <tr>\n",
       "      <th>0</th>\n",
       "      <td>Jon lifted Susan into his arms, his muscles so...</td>\n",
       "      <td>Susan lifted Jon into the air.</td>\n",
       "      <td>2</td>\n",
       "      <td>207880</td>\n",
       "      <td>contradiction</td>\n",
       "    </tr>\n",
       "    <tr>\n",
       "      <th>1</th>\n",
       "      <td>and dropping children off at the sitter and pi...</td>\n",
       "      <td>The children are dropped off at the sitter onl...</td>\n",
       "      <td>0</td>\n",
       "      <td>263102</td>\n",
       "      <td>entailment</td>\n",
       "    </tr>\n",
       "    <tr>\n",
       "      <th>2</th>\n",
       "      <td>The Honorable Donna E. Shalala The Secretary o...</td>\n",
       "      <td>Donna E. Shalala is an honorable person for th...</td>\n",
       "      <td>1</td>\n",
       "      <td>299610</td>\n",
       "      <td>neutral</td>\n",
       "    </tr>\n",
       "    <tr>\n",
       "      <th>3</th>\n",
       "      <td>Scheduling of follow-up visits depends on type...</td>\n",
       "      <td>Most patients have a follow up two weeks after...</td>\n",
       "      <td>1</td>\n",
       "      <td>344508</td>\n",
       "      <td>neutral</td>\n",
       "    </tr>\n",
       "    <tr>\n",
       "      <th>4</th>\n",
       "      <td>This effect does not consider the additional j...</td>\n",
       "      <td>This technology is purely for environmental be...</td>\n",
       "      <td>2</td>\n",
       "      <td>128010</td>\n",
       "      <td>contradiction</td>\n",
       "    </tr>\n",
       "    <tr>\n",
       "      <th>...</th>\n",
       "      <td>...</td>\n",
       "      <td>...</td>\n",
       "      <td>...</td>\n",
       "      <td>...</td>\n",
       "      <td>...</td>\n",
       "    </tr>\n",
       "    <tr>\n",
       "      <th>15703</th>\n",
       "      <td>5 million for grants to local legal services p...</td>\n",
       "      <td>A large deal of money has been allocated to lo...</td>\n",
       "      <td>0</td>\n",
       "      <td>288859</td>\n",
       "      <td>entailment</td>\n",
       "    </tr>\n",
       "    <tr>\n",
       "      <th>15704</th>\n",
       "      <td>But reviewers agree that the recording succeed...</td>\n",
       "      <td>Bartoli and Hampson save the recording, becaus...</td>\n",
       "      <td>1</td>\n",
       "      <td>376665</td>\n",
       "      <td>neutral</td>\n",
       "    </tr>\n",
       "    <tr>\n",
       "      <th>15705</th>\n",
       "      <td>We know this, because later she asked Dorcas t...</td>\n",
       "      <td>Dorcas did not bring any.</td>\n",
       "      <td>1</td>\n",
       "      <td>287939</td>\n",
       "      <td>neutral</td>\n",
       "    </tr>\n",
       "    <tr>\n",
       "      <th>15706</th>\n",
       "      <td>uh again i mean people think it's expensive bu...</td>\n",
       "      <td>It is much more expensive than any New England...</td>\n",
       "      <td>2</td>\n",
       "      <td>185150</td>\n",
       "      <td>contradiction</td>\n",
       "    </tr>\n",
       "    <tr>\n",
       "      <th>15707</th>\n",
       "      <td>A horse-drawn phaeton will take you on a tour,...</td>\n",
       "      <td>The tour does not pass through the city centre...</td>\n",
       "      <td>2</td>\n",
       "      <td>226805</td>\n",
       "      <td>contradiction</td>\n",
       "    </tr>\n",
       "  </tbody>\n",
       "</table>\n",
       "<p>15708 rows × 5 columns</p>\n",
       "</div>"
      ],
      "text/plain": [
       "                                                 premise  \\\n",
       "0      Jon lifted Susan into his arms, his muscles so...   \n",
       "1      and dropping children off at the sitter and pi...   \n",
       "2      The Honorable Donna E. Shalala The Secretary o...   \n",
       "3      Scheduling of follow-up visits depends on type...   \n",
       "4      This effect does not consider the additional j...   \n",
       "...                                                  ...   \n",
       "15703  5 million for grants to local legal services p...   \n",
       "15704  But reviewers agree that the recording succeed...   \n",
       "15705  We know this, because later she asked Dorcas t...   \n",
       "15706  uh again i mean people think it's expensive bu...   \n",
       "15707  A horse-drawn phaeton will take you on a tour,...   \n",
       "\n",
       "                                              hypothesis  label     idx  \\\n",
       "0                         Susan lifted Jon into the air.      2  207880   \n",
       "1      The children are dropped off at the sitter onl...      0  263102   \n",
       "2      Donna E. Shalala is an honorable person for th...      1  299610   \n",
       "3      Most patients have a follow up two weeks after...      1  344508   \n",
       "4      This technology is purely for environmental be...      2  128010   \n",
       "...                                                  ...    ...     ...   \n",
       "15703  A large deal of money has been allocated to lo...      0  288859   \n",
       "15704  Bartoli and Hampson save the recording, becaus...      1  376665   \n",
       "15705                          Dorcas did not bring any.      1  287939   \n",
       "15706  It is much more expensive than any New England...      2  185150   \n",
       "15707  The tour does not pass through the city centre...      2  226805   \n",
       "\n",
       "          label_text  \n",
       "0      contradiction  \n",
       "1         entailment  \n",
       "2            neutral  \n",
       "3            neutral  \n",
       "4      contradiction  \n",
       "...              ...  \n",
       "15703     entailment  \n",
       "15704        neutral  \n",
       "15705        neutral  \n",
       "15706  contradiction  \n",
       "15707  contradiction  \n",
       "\n",
       "[15708 rows x 5 columns]"
      ]
     },
     "execution_count": 6,
     "metadata": {},
     "output_type": "execute_result"
    }
   ],
   "source": [
    "# testing data frame\n",
    "\n",
    "replaceNaN(data_frame_test)\n",
    "\n",
    "data_frame_test\n"
   ]
  },
  {
   "cell_type": "code",
   "execution_count": 7,
   "id": "ad9be584",
   "metadata": {},
   "outputs": [
    {
     "name": "stdout",
     "output_type": "stream",
     "text": [
      "['premise', 'hypothesis', 'label', 'idx', 'label_text']\n",
      "['premise', 'hypothesis', 'label', 'idx', 'label_text']\n",
      "['premise', 'hypothesis', 'label', 'idx', 'label_text']\n"
     ]
    }
   ],
   "source": [
    "# attributes of data frames\n",
    "\n",
    "print(list(data_frame_train))\n",
    "print(list(data_frame_validation))\n",
    "print(list(data_frame_test))\n"
   ]
  },
  {
   "cell_type": "code",
   "execution_count": 8,
   "id": "d49cf2ed",
   "metadata": {},
   "outputs": [
    {
     "name": "stdout",
     "output_type": "stream",
     "text": [
      "[('Jon lifted Susan into his arms, his muscles sore from combat.', 'Susan lifted Jon into the air.'), ('and dropping children off at the sitter and picking children up from school and', 'The children are dropped off at the sitter only to be picked up from school.'), ('The Honorable Donna E. Shalala The Secretary of Health and Human Services', 'Donna E. Shalala is an honorable person for the Health and human services.'), ('Scheduling of follow-up visits depends on type of medical problem or injury.', 'Most patients have a follow up two weeks after the initial visit.'), ('This effect does not consider the additional job-gain potential from U.S.-based equipment suppliers that export to other countries the clean-air technology know-how they will gain from these clean-air programs.', 'This technology is purely for environmental benefit.')]\n",
      " \n",
      "[2, 0, 1, 1, 2]\n"
     ]
    }
   ],
   "source": [
    "# creating lists for training dataset\n",
    "\n",
    "# premise, hypothesis, and labels declaration\n",
    "premise_train = data_frame_train['premise'].values\n",
    "hypothesis_train = data_frame_train['hypothesis'].values\n",
    "label_train = data_frame_train['label'].values\n",
    "\n",
    "# combining dependent variable and independent variables into list\n",
    "# initializing training set\n",
    "x_train = list(zip(premise_train,hypothesis_train))\n",
    "y_train = list(label_train)\n",
    "\n",
    "print(x_train[:5]) #print only the first 5 elements as data rate can exceed for such large list and show an error\n",
    "print(\" \")\n",
    "\n",
    "print(y_train[:5])\n"
   ]
  },
  {
   "cell_type": "code",
   "execution_count": 9,
   "id": "3bf66e52",
   "metadata": {},
   "outputs": [
    {
     "name": "stdout",
     "output_type": "stream",
     "text": [
      "[(\"yeah well losing is i mean i'm i'm originally from Saint Louis and Saint Louis Cardinals when they were there were uh a mostly a losing team but\", 'The St. Louis Cardinals have always won.'), ('Beside the fortress lies an 18th-century caravanserai, or inn, which has been converted into a hotel, and now hosts regular folklore evenings of Turkish dance and music.', 'The fortress was built a number of years after the caravanserai.'), ('The twenty mastic villages known collectively as mastihohoria were built by the Genoese in the 14 15th centuries.', 'Mastihohoria is a collection of twenty mastic villages built be the genoese.'), ('Jamaican music ska and, especially, reggae has since the 1970s been exported and enjoyed around the world.', 'Reggae is the most popular music style in Jamaica.'), ('for me now the address is the same you know my my office address', 'I am able to receive mail at my workplace.')]\n",
      " \n",
      "[2, 1, 0, 1, 1]\n"
     ]
    }
   ],
   "source": [
    "# creating lists for validation dataset\n",
    "\n",
    "# premise, hypothesis, and labels declaration\n",
    "premise_validation = data_frame_validation['premise'].values\n",
    "hypothesis_validation = data_frame_validation['hypothesis'].values\n",
    "label_validation = data_frame_validation['label'].values\n",
    "\n",
    "# combining dependent variable and independent variables into list\n",
    "# initializing validation set\n",
    "x_validation = list(zip(premise_validation,hypothesis_validation))\n",
    "y_validation = list(label_validation)\n",
    "\n",
    "print(x_validation[:5]) # print only the first 5 elements as data rate can exceed for such large list and show an error\n",
    "print(\" \")\n",
    "\n",
    "print(y_validation[:5])\n"
   ]
  },
  {
   "cell_type": "code",
   "execution_count": 10,
   "id": "06e0af14",
   "metadata": {},
   "outputs": [
    {
     "name": "stdout",
     "output_type": "stream",
     "text": [
      "[('Jon lifted Susan into his arms, his muscles sore from combat.', 'Susan lifted Jon into the air.'), ('and dropping children off at the sitter and picking children up from school and', 'The children are dropped off at the sitter only to be picked up from school.'), ('The Honorable Donna E. Shalala The Secretary of Health and Human Services', 'Donna E. Shalala is an honorable person for the Health and human services.'), ('Scheduling of follow-up visits depends on type of medical problem or injury.', 'Most patients have a follow up two weeks after the initial visit.'), ('This effect does not consider the additional job-gain potential from U.S.-based equipment suppliers that export to other countries the clean-air technology know-how they will gain from these clean-air programs.', 'This technology is purely for environmental benefit.')]\n",
      " \n",
      "[2, 0, 1, 1, 2]\n"
     ]
    }
   ],
   "source": [
    "# creating lists for test dataset\n",
    "\n",
    "# premise, hypothesis, and labels declaration\n",
    "premise_test = data_frame_test['premise'].values\n",
    "hypothesis_test = data_frame_test['hypothesis'].values\n",
    "label_test = data_frame_test['label'].values\n",
    "\n",
    "# combining dependent variable and independent variables into list\n",
    "# initializing validation set\n",
    "x_test = list(zip(premise_test,hypothesis_test))\n",
    "y_test = list(label_test)\n",
    "\n",
    "print(x_test[:5]) # print only the first 5 elements as data rate can exceed for such large list and show an error\n",
    "print(\" \")\n",
    "\n",
    "print(y_test[:5])\n"
   ]
  },
  {
   "cell_type": "code",
   "execution_count": 11,
   "id": "9b200fee",
   "metadata": {},
   "outputs": [],
   "source": [
    "# tokenization\n",
    "#convert words into integers\n",
    "texts = [pair[0] + \" \" + pair[1] for pair in x_train] + [pair[0] + \" \" + pair[1] for pair in x_validation] + [pair[0] + \" \" + pair[1] for pair in x_test]\n",
    "\n",
    "tokenizer = Tokenizer()\n",
    "tokenizer.fit_on_texts(texts)\n"
   ]
  },
  {
   "cell_type": "code",
   "execution_count": 12,
   "id": "1523a65a",
   "metadata": {},
   "outputs": [],
   "source": [
    "# Convert text to sequences\n",
    "x_train_seq = tokenizer.texts_to_sequences([pair[0] + \" \" + pair[1] for pair in x_train])\n",
    "x_validation_seq = tokenizer.texts_to_sequences([pair[0] + \" \" + pair[1] for pair in x_validation])\n",
    "x_test_seq = tokenizer.texts_to_sequences([pair[0] + \" \" + pair[1] for pair in x_test])\n"
   ]
  },
  {
   "cell_type": "code",
   "execution_count": 13,
   "id": "41e36c2f",
   "metadata": {},
   "outputs": [],
   "source": [
    "# Pad the sequences to ensure consistent input size\n",
    "max_sequence_length = 100  # Adjust based on your data\n",
    "x_train_pad = pad_sequences(x_train_seq, maxlen=max_sequence_length)\n",
    "x_validation_pad = pad_sequences(x_validation_seq, maxlen=max_sequence_length)\n",
    "x_test_pad = pad_sequences(x_test_seq, maxlen=max_sequence_length)\n"
   ]
  },
  {
   "cell_type": "code",
   "execution_count": 14,
   "id": "1cd7242f",
   "metadata": {},
   "outputs": [],
   "source": [
    "# Convert labels data type to numpy arrays\n",
    "y_train = np.array(y_train)\n",
    "y_validation = np.array(y_validation)\n",
    "y_test = np.array(y_test)\n"
   ]
  },
  {
   "cell_type": "code",
   "execution_count": 15,
   "id": "6286d70f",
   "metadata": {},
   "outputs": [],
   "source": [
    "# Build the model\n",
    "embedding_dimension = 300 # Adjust based on pre-trained word vectors (like GloVe) or your needs\n",
    "\n",
    "model = Sequential()\n",
    "model.add(Embedding(input_dim=len(tokenizer.word_index)+1,output_dim=embedding_dimension))\n",
    "model.add(SpatialDropout1D(0.2)) # dropout regularization for input layers\n",
    "model.add(Bidirectional(LSTM(100,dropout=0.2,recurrent_dropout=0.2))) #BiLSTM layers and recurrent dropout for hidden layers\n",
    "model.add(Dense(3,activation=\"softmax\")) # fully connected output layer for 3 classes (entailment, contradiction, neutral)\n"
   ]
  },
  {
   "cell_type": "code",
   "execution_count": 16,
   "id": "dcde6de2",
   "metadata": {},
   "outputs": [],
   "source": [
    "# compile the model for setting up the loss function, optimization for gradient loss, evaluation\n",
    "\n",
    "\n",
    "model.compile(loss='sparse_categorical_crossentropy',optimizer='adam',metrics=['accuracy'])\n",
    "#model.compile(loss='sparse_categorical_crossentropy',\n",
    " ##            metrics=['accuracy'])"
   ]
  },
  {
   "cell_type": "code",
   "execution_count": 17,
   "id": "472c4036-a06c-44b3-a3dc-290dd3f375d2",
   "metadata": {},
   "outputs": [],
   "source": [
    "#from tensorflow.keras.optimizers import Adam\n",
    "\n",
    "# Instantiate Adam optimizer with custom learning rate and weight decay\n",
    "#optimizer = Adam(learning_rate=2e-5, weight_decay=0.01)\n",
    "\n",
    "# Compile the model\n",
    "##             optimizer=optimizer,  # Use the optimizer object\n",
    "  #            metrics=['accuracy'])"
   ]
  },
  {
   "cell_type": "code",
   "execution_count": 18,
   "id": "81b3651b",
   "metadata": {},
   "outputs": [
    {
     "name": "stdout",
     "output_type": "stream",
     "text": [
      "Model: \"sequential\"\n",
      "_________________________________________________________________\n",
      " Layer (type)                Output Shape              Param #   \n",
      "=================================================================\n",
      " embedding (Embedding)       (None, None, 300)         11511000  \n",
      "                                                                 \n",
      " spatial_dropout1d (SpatialD  (None, None, 300)        0         \n",
      " ropout1D)                                                       \n",
      "                                                                 \n",
      " bidirectional (Bidirectiona  (None, 200)              320800    \n",
      " l)                                                              \n",
      "                                                                 \n",
      " dense (Dense)               (None, 3)                 603       \n",
      "                                                                 \n",
      "=================================================================\n",
      "Total params: 11,832,403\n",
      "Trainable params: 11,832,403\n",
      "Non-trainable params: 0\n",
      "_________________________________________________________________\n"
     ]
    }
   ],
   "source": [
    "# get the summary of the model\n",
    "# before training\n",
    "model.summary()\n"
   ]
  },
  {
   "cell_type": "code",
   "execution_count": 19,
   "id": "757b1136",
   "metadata": {},
   "outputs": [
    {
     "name": "stdout",
     "output_type": "stream",
     "text": [
      "491/491 [==============================] - 423s 851ms/step - loss: 1.0307 - accuracy: 0.4595 - val_loss: 1.0039 - val_accuracy: 0.4705\n"
     ]
    }
   ],
   "source": [
    "# train the configured model\n",
    "final_model = model.fit(x_train_pad,y_train,epochs=1,batch_size=64,validation_data=(x_validation_pad,y_validation))\n"
   ]
  },
  {
   "cell_type": "code",
   "execution_count": 20,
   "id": "7924083c-8226-4a49-bcdd-e60c04c7d1b7",
   "metadata": {},
   "outputs": [
    {
     "name": "stdout",
     "output_type": "stream",
     "text": [
      "62/62 [==============================] - 2s 27ms/step - loss: 1.0039 - accuracy: 0.4705\n",
      "Evaluation results: [1.0038670301437378, 0.4704684317111969]\n"
     ]
    }
   ],
   "source": [
    "# Evaluate the model on the validation set with eval_batch_size\n",
    "eval_results = model.evaluate(\n",
    "    x_validation_pad,  # Validation input data\n",
    "    y_validation,      # Validation labels\n",
    "    batch_size=16       # Set the batch size for evaluation\n",
    ")\n",
    "\n",
    "print(f\"Evaluation results: {eval_results}\")"
   ]
  },
  {
   "cell_type": "code",
   "execution_count": 21,
   "id": "a5f5618a",
   "metadata": {},
   "outputs": [
    {
     "name": "stdout",
     "output_type": "stream",
     "text": [
      "Model: \"sequential\"\n",
      "_________________________________________________________________\n",
      " Layer (type)                Output Shape              Param #   \n",
      "=================================================================\n",
      " embedding (Embedding)       (None, None, 300)         11511000  \n",
      "                                                                 \n",
      " spatial_dropout1d (SpatialD  (None, None, 300)        0         \n",
      " ropout1D)                                                       \n",
      "                                                                 \n",
      " bidirectional (Bidirectiona  (None, 200)              320800    \n",
      " l)                                                              \n",
      "                                                                 \n",
      " dense (Dense)               (None, 3)                 603       \n",
      "                                                                 \n",
      "=================================================================\n",
      "Total params: 11,832,403\n",
      "Trainable params: 11,832,403\n",
      "Non-trainable params: 0\n",
      "_________________________________________________________________\n"
     ]
    }
   ],
   "source": [
    "# after training\n",
    "#summary of the trained model\n",
    "model.summary()\n"
   ]
  },
  {
   "cell_type": "code",
   "execution_count": 22,
   "id": "415d2c89",
   "metadata": {},
   "outputs": [
    {
     "name": "stdout",
     "output_type": "stream",
     "text": [
      "491/491 [==============================] - 66s 133ms/step\n"
     ]
    }
   ],
   "source": [
    "# prediction on test set\n",
    "y_prediction = model.predict(x_test_pad)\n",
    "y_prediction_classes = np.argmax(y_prediction,axis=1)\n"
   ]
  },
  {
   "cell_type": "code",
   "execution_count": 23,
   "id": "98d65f5c",
   "metadata": {
    "scrolled": true
   },
   "outputs": [
    {
     "name": "stdout",
     "output_type": "stream",
     "text": [
      "Test dataset: [[   0    0    0 ...   98    1  293]\n",
      " [   0    0    0 ...   57   25  243]\n",
      " [   0    0    0 ...    4  527  178]\n",
      " ...\n",
      " [   0    0    0 ...   20  755   82]\n",
      " [   0    0    0 ... 1410  169  243]\n",
      " [   0    0    0 ... 1206 1285 2066]]\n",
      " \n",
      "Predictions: [0 2 0 ... 2 2 2]\n"
     ]
    }
   ],
   "source": [
    "# prediction results\n",
    "print(\"Test dataset: {}\".format(x_test_pad))\n",
    "print(\" \")\n",
    "print(\"Predictions: {}\".format(y_prediction_classes))\n"
   ]
  },
  {
   "cell_type": "code",
   "execution_count": 24,
   "id": "ff19e4fd",
   "metadata": {},
   "outputs": [
    {
     "name": "stdout",
     "output_type": "stream",
     "text": [
      "Accuracy:61.08\n"
     ]
    }
   ],
   "source": [
    "# evaluation of the model for test dataset\n",
    "accuracy = accuracy_score(y_test,y_prediction_classes)\n",
    "print(\"Accuracy:{:.2f}\".format(accuracy * 100))\n"
   ]
  },
  {
   "cell_type": "code",
   "execution_count": 25,
   "id": "87d06b37",
   "metadata": {},
   "outputs": [
    {
     "name": "stdout",
     "output_type": "stream",
     "text": [
      "[2 0 1 ... 1 2 2]\n"
     ]
    }
   ],
   "source": [
    "print(y_test)\n"
   ]
  },
  {
   "cell_type": "code",
   "execution_count": 26,
   "id": "c3a2b851",
   "metadata": {},
   "outputs": [
    {
     "name": "stdout",
     "output_type": "stream",
     "text": [
      "               precision    recall  f1-score   support\n",
      "\n",
      "Contradiction       0.55      0.69      0.61      5219\n",
      "      Neutral       0.63      0.53      0.58      5194\n",
      "   Entailment       0.68      0.61      0.64      5295\n",
      "\n",
      "     accuracy                           0.61     15708\n",
      "    macro avg       0.62      0.61      0.61     15708\n",
      " weighted avg       0.62      0.61      0.61     15708\n",
      "\n"
     ]
    }
   ],
   "source": [
    "# classification report\n",
    "print(classification_report(y_test,y_prediction_classes,target_names=[\"Contradiction\", \"Neutral\", \"Entailment\"]))\n"
   ]
  },
  {
   "cell_type": "code",
   "execution_count": 27,
   "id": "1ae392c8",
   "metadata": {},
   "outputs": [
    {
     "name": "stdout",
     "output_type": "stream",
     "text": [
      "Confusion Matrix:\n",
      " \n",
      "[[3598  840  781]\n",
      " [1683 2771  740]\n",
      " [1280  790 3225]]\n"
     ]
    }
   ],
   "source": [
    "# confusion matrix for multi-class (3-classes)\n",
    "from sklearn.metrics import confusion_matrix\n",
    "\n",
    "cm = confusion_matrix(y_test,y_prediction_classes)\n",
    "\n",
    "print(\"Confusion Matrix:\")\n",
    "print(\" \")\n",
    "print(cm)\n"
   ]
  },
  {
   "cell_type": "code",
   "execution_count": 28,
   "id": "c391d51e",
   "metadata": {},
   "outputs": [
    {
     "name": "stdout",
     "output_type": "stream",
     "text": [
      "For Actual:\n",
      "Total Contradiction => 5219\n",
      "Total Neutral => 5194\n",
      "Total Entailment => 5295\n",
      " \n",
      "For Prediction:\n",
      "Total Contradiction => 6561\n",
      "Total Neutral => 4401\n",
      "Total Entailment => 4746\n"
     ]
    }
   ],
   "source": [
    "# count total number of occurences\n",
    "def countTotal(y_classes):\n",
    "\n",
    "    m = total_contradiction = total_neutral = total_entailment = 0\n",
    "\n",
    "    while(m<len(y_classes)):\n",
    "        if(y_classes[m] == 0):\n",
    "            total_contradiction = total_contradiction + 1\n",
    "        elif(y_classes[m] == 1):\n",
    "            total_neutral = total_neutral + 1\n",
    "        else:\n",
    "            total_entailment = total_entailment + 1\n",
    "\n",
    "        m = m + 1\n",
    "\n",
    "    print(\"Total Contradiction => {}\".format(total_contradiction))\n",
    "    print(\"Total Neutral => {}\".format(total_neutral))\n",
    "    print(\"Total Entailment => {}\".format(total_entailment))\n",
    "\n",
    "print(\"For Actual:\")\n",
    "countTotal(y_test)\n",
    "print(\" \")\n",
    "\n",
    "print(\"For Prediction:\")\n",
    "countTotal(y_prediction_classes)\n"
   ]
  },
  {
   "cell_type": "code",
   "execution_count": 29,
   "id": "5e0aca2f",
   "metadata": {},
   "outputs": [
    {
     "data": {
      "image/png": "[encoded data removed]",
      "text/plain": [
       "<Figure size 640x480 with 2 Axes>"
      ]
     },
     "metadata": {},
     "output_type": "display_data"
    }
   ],
   "source": [
    "# using heatmap for visualization of confusion matrix\n",
    "import seaborn as sb\n",
    "import matplotlib.pyplot as plt\n",
    "\n",
    "sb.heatmap(cm, annot=True, fmt='d', cmap='Blues', xticklabels=['Contradiction', 'Neutral', 'Entailment'], yticklabels=['Contradiction', 'Neutral', 'Entailment'])\n",
    "plt.xlabel('Predicted')\n",
    "plt.ylabel('Actual')\n",
    "\n",
    "plt.title('BiLSTM')\n",
    "plt.show()\n"
   ]
  },
  {
   "cell_type": "code",
   "execution_count": null,
   "id": "6f1394db",
   "metadata": {},
   "outputs": [],
   "source": [
    " "
   ]
  }
 ],
 "metadata": {
  "kernelspec": {
   "display_name": "Python 3 (ipykernel)",
   "language": "python",
   "name": "python3"
  },
  "language_info": {
   "codemirror_mode": {
    "name": "ipython",
    "version": 3
   },
   "file_extension": ".py",
   "mimetype": "text/x-python",
   "name": "python",
   "nbconvert_exporter": "python",
   "pygments_lexer": "ipython3",
   "version": "3.10.11"
  }
 },
 "nbformat": 4,
 "nbformat_minor": 5
}
